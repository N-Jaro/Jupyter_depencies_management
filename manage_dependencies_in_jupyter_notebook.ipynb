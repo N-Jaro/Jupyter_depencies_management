{
 "cells": [
  {
   "cell_type": "markdown",
   "id": "d64f3a7e-0f2b-481d-a20b-1696c88fc439",
   "metadata": {},
   "source": [
    "# How to Manage Dependencies and Use Python Files in Jupyter Notebooks\n",
    "\n",
    "This guide covers multiple ways to manage Python packages, download datasets, and use external Python functions in a Jupyter Notebook environment."
   ]
  },
  {
   "cell_type": "markdown",
   "id": "2a31f4c8-76db-42b0-8838-9a93512aca5f",
   "metadata": {},
   "source": [
    "## 1. Installing Packages with `pip` in a Code Cell\n",
    "Jupyter supports direct shell commands for installing packages. Use `%pip` in a code cell.\n",
    "\n",
    "The format: \n",
    "\n",
    "<pre>\n",
    "%pip install {package_name1} {package_name2} ...\n",
    "</pre>\n",
    "\n",
    "**Example:** Below we install numpy, pandas, and matplotlib"
   ]
  },
  {
   "cell_type": "code",
   "execution_count": 9,
   "id": "59bc07e9-269d-4304-a629-c5ba30544b7d",
   "metadata": {
    "scrolled": true
   },
   "outputs": [
    {
     "name": "stdout",
     "output_type": "stream",
     "text": [
      "Defaulting to user installation because normal site-packages is not writeable\n",
      "Requirement already satisfied: numpy in /cvmfs/iguide.purdue.edu/software/conda/geoai/lib/python3.11/site-packages (1.26.4)\n",
      "Requirement already satisfied: pandas in /cvmfs/iguide.purdue.edu/software/conda/geoai/lib/python3.11/site-packages (2.1.4)\n",
      "Requirement already satisfied: matplotlib in /cvmfs/iguide.purdue.edu/software/conda/geoai/lib/python3.11/site-packages (3.8.4)\n",
      "Requirement already satisfied: python-dateutil>=2.8.2 in /cvmfs/iguide.purdue.edu/software/conda/geoai/lib/python3.11/site-packages (from pandas) (2.8.2)\n",
      "Requirement already satisfied: pytz>=2020.1 in /cvmfs/iguide.purdue.edu/software/conda/geoai/lib/python3.11/site-packages (from pandas) (2024.1)\n",
      "Requirement already satisfied: tzdata>=2022.1 in /cvmfs/iguide.purdue.edu/software/conda/geoai/lib/python3.11/site-packages (from pandas) (2023.3)\n",
      "Requirement already satisfied: contourpy>=1.0.1 in /cvmfs/iguide.purdue.edu/software/conda/geoai/lib/python3.11/site-packages (from matplotlib) (1.2.0)\n",
      "Requirement already satisfied: cycler>=0.10 in /cvmfs/iguide.purdue.edu/software/conda/geoai/lib/python3.11/site-packages (from matplotlib) (0.11.0)\n",
      "Requirement already satisfied: fonttools>=4.22.0 in /cvmfs/iguide.purdue.edu/software/conda/geoai/lib/python3.11/site-packages (from matplotlib) (4.51.0)\n",
      "Requirement already satisfied: kiwisolver>=1.3.1 in /cvmfs/iguide.purdue.edu/software/conda/geoai/lib/python3.11/site-packages (from matplotlib) (1.4.4)\n",
      "Requirement already satisfied: packaging>=20.0 in /cvmfs/iguide.purdue.edu/software/conda/geoai/lib/python3.11/site-packages (from matplotlib) (23.2)\n",
      "Requirement already satisfied: pillow>=8 in /home/jovyan/.local/geoai/lib/python3.11/site-packages (from matplotlib) (11.1.0)\n",
      "Requirement already satisfied: pyparsing>=2.3.1 in /cvmfs/iguide.purdue.edu/software/conda/geoai/lib/python3.11/site-packages (from matplotlib) (3.0.9)\n",
      "Requirement already satisfied: six>=1.5 in /cvmfs/iguide.purdue.edu/software/conda/geoai/lib/python3.11/site-packages (from python-dateutil>=2.8.2->pandas) (1.16.0)\n",
      "Note: you may need to restart the kernel to use updated packages.\n"
     ]
    }
   ],
   "source": [
    "%pip install numpy pandas matplotlib"
   ]
  },
  {
   "cell_type": "markdown",
   "id": "57cf476e-13df-4a39-8a0d-98cef37b9379",
   "metadata": {},
   "source": [
    "To suppress the output messages we can use the command below."
   ]
  },
  {
   "cell_type": "code",
   "execution_count": 10,
   "id": "058c505d-2e17-4cec-8874-b7b59e1475fb",
   "metadata": {},
   "outputs": [
    {
     "name": "stdout",
     "output_type": "stream",
     "text": [
      "Note: you may need to restart the kernel to use updated packages.\n"
     ]
    }
   ],
   "source": [
    "%pip install numpy pandas matplotlib > /dev/null 2>&1"
   ]
  },
  {
   "cell_type": "markdown",
   "id": "7329061c-eb6b-405d-987d-8df1203fcd9a",
   "metadata": {},
   "source": [
    "**Note:** This installs packages only within the current Jupyter kernel’s environment."
   ]
  },
  {
   "cell_type": "markdown",
   "id": "9b4ddae2-f0de-47c2-851e-dca8d25b2030",
   "metadata": {},
   "source": [
    "----\n",
    "## 2. Install packages from 'requirements.txt' file \n",
    "In the case that the user has requirements.txt, users can also use pip command to install packages from [requirements.txt](requirements.txt).\n",
    "\n",
    "**Note:** the requirements.txt must be in the same location as the notebook in the GitHub repo. "
   ]
  },
  {
   "cell_type": "code",
   "execution_count": 11,
   "id": "1ce45dde-1ab6-4b98-a1b4-50d93470f629",
   "metadata": {
    "scrolled": true
   },
   "outputs": [
    {
     "name": "stdout",
     "output_type": "stream",
     "text": [
      "Defaulting to user installation because normal site-packages is not writeable\n",
      "Requirement already satisfied: pandas in /cvmfs/iguide.purdue.edu/software/conda/geoai/lib/python3.11/site-packages (from -r requirements.txt (line 1)) (2.1.4)\n",
      "Requirement already satisfied: scikit-learn in /cvmfs/iguide.purdue.edu/software/conda/geoai/lib/python3.11/site-packages (from -r requirements.txt (line 2)) (1.2.2)\n",
      "Requirement already satisfied: rasterio in /cvmfs/iguide.purdue.edu/software/conda/geoai/lib/python3.11/site-packages (from -r requirements.txt (line 3)) (1.3.8)\n",
      "Requirement already satisfied: numpy<2,>=1.23.2 in /cvmfs/iguide.purdue.edu/software/conda/geoai/lib/python3.11/site-packages (from pandas->-r requirements.txt (line 1)) (1.26.4)\n",
      "Requirement already satisfied: python-dateutil>=2.8.2 in /cvmfs/iguide.purdue.edu/software/conda/geoai/lib/python3.11/site-packages (from pandas->-r requirements.txt (line 1)) (2.8.2)\n",
      "Requirement already satisfied: pytz>=2020.1 in /cvmfs/iguide.purdue.edu/software/conda/geoai/lib/python3.11/site-packages (from pandas->-r requirements.txt (line 1)) (2024.1)\n",
      "Requirement already satisfied: tzdata>=2022.1 in /cvmfs/iguide.purdue.edu/software/conda/geoai/lib/python3.11/site-packages (from pandas->-r requirements.txt (line 1)) (2023.3)\n",
      "Requirement already satisfied: scipy>=1.3.2 in /cvmfs/iguide.purdue.edu/software/conda/geoai/lib/python3.11/site-packages (from scikit-learn->-r requirements.txt (line 2)) (1.13.0)\n",
      "Requirement already satisfied: joblib>=1.1.1 in /cvmfs/iguide.purdue.edu/software/conda/geoai/lib/python3.11/site-packages (from scikit-learn->-r requirements.txt (line 2)) (1.4.0)\n",
      "Requirement already satisfied: threadpoolctl>=2.0.0 in /cvmfs/iguide.purdue.edu/software/conda/geoai/lib/python3.11/site-packages (from scikit-learn->-r requirements.txt (line 2)) (2.2.0)\n",
      "Requirement already satisfied: affine in /cvmfs/iguide.purdue.edu/software/conda/geoai/lib/python3.11/site-packages (from rasterio->-r requirements.txt (line 3)) (2.4.0)\n",
      "Requirement already satisfied: attrs in /cvmfs/iguide.purdue.edu/software/conda/geoai/lib/python3.11/site-packages (from rasterio->-r requirements.txt (line 3)) (23.1.0)\n",
      "Requirement already satisfied: certifi in /cvmfs/iguide.purdue.edu/software/conda/geoai/lib/python3.11/site-packages (from rasterio->-r requirements.txt (line 3)) (2024.7.4)\n",
      "Requirement already satisfied: click>=4.0 in /cvmfs/iguide.purdue.edu/software/conda/geoai/lib/python3.11/site-packages (from rasterio->-r requirements.txt (line 3)) (8.1.7)\n",
      "Requirement already satisfied: cligj>=0.5 in /cvmfs/iguide.purdue.edu/software/conda/geoai/lib/python3.11/site-packages (from rasterio->-r requirements.txt (line 3)) (0.7.2)\n",
      "Requirement already satisfied: snuggs>=1.4.1 in /cvmfs/iguide.purdue.edu/software/conda/geoai/lib/python3.11/site-packages (from rasterio->-r requirements.txt (line 3)) (1.4.7)\n",
      "Requirement already satisfied: click-plugins in /cvmfs/iguide.purdue.edu/software/conda/geoai/lib/python3.11/site-packages (from rasterio->-r requirements.txt (line 3)) (1.1.1)\n",
      "Requirement already satisfied: setuptools in /cvmfs/iguide.purdue.edu/software/conda/geoai/lib/python3.11/site-packages (from rasterio->-r requirements.txt (line 3)) (68.2.2)\n",
      "Requirement already satisfied: six>=1.5 in /cvmfs/iguide.purdue.edu/software/conda/geoai/lib/python3.11/site-packages (from python-dateutil>=2.8.2->pandas->-r requirements.txt (line 1)) (1.16.0)\n",
      "Requirement already satisfied: pyparsing>=2.1.6 in /cvmfs/iguide.purdue.edu/software/conda/geoai/lib/python3.11/site-packages (from snuggs>=1.4.1->rasterio->-r requirements.txt (line 3)) (3.0.9)\n",
      "Note: you may need to restart the kernel to use updated packages.\n"
     ]
    }
   ],
   "source": [
    "%pip install -r requirements.txt"
   ]
  },
  {
   "cell_type": "markdown",
   "id": "52540ec8-da82-4d2b-8bd6-7248b32ae449",
   "metadata": {},
   "source": [
    "To suppress the output messages we can use the command below."
   ]
  },
  {
   "cell_type": "code",
   "execution_count": 12,
   "id": "c1bb7813-64a3-4e4b-bda4-ca8a318d8f1f",
   "metadata": {},
   "outputs": [
    {
     "name": "stdout",
     "output_type": "stream",
     "text": [
      "Note: you may need to restart the kernel to use updated packages.\n"
     ]
    }
   ],
   "source": [
    "%pip install -r requirements.txt > /dev/null 2>&1"
   ]
  },
  {
   "cell_type": "markdown",
   "id": "6faf39f3-7b7c-4e66-982c-bd5b13d9117e",
   "metadata": {},
   "source": [
    "----\n",
    "\n",
    "## 3. Downloading and Extracting a ZIP File from URL \n",
    "\n",
    "You can programmatically download and unzip files (e.g., datasets or model weights)."
   ]
  },
  {
   "cell_type": "code",
   "execution_count": 13,
   "id": "7ee3bc86-c7af-417c-98ff-42f405160c36",
   "metadata": {},
   "outputs": [
    {
     "name": "stdout",
     "output_type": "stream",
     "text": [
      "Downloading ZIP file from GitHub...\n",
      "✅ Download complete: example.zip\n",
      "Extracting ZIP file...\n",
      "✅ Extraction complete: contents extracted to 'temp_extracted'\n",
      "Moving extracted files to final data folder...\n",
      "  Moved: 190603010302_patch_97.npy\n",
      "  Moved: 190603010302_patch_98.npy\n",
      "Cleaning up temporary files...\n",
      "✅ All files moved to 'data' and temporary files cleaned up.\n"
     ]
    }
   ],
   "source": [
    "import zipfile\n",
    "import requests\n",
    "import os\n",
    "import shutil\n",
    "\n",
    "# Define source URL and local paths\n",
    "url = \"https://github.com/N-Jaro/test/raw/refs/heads/master/example.zip\"\n",
    "zip_path = \"example.zip\"\n",
    "extract_folder = \"temp_extracted\"\n",
    "final_data_folder = \"data\"\n",
    "\n",
    "# Create the final data folder if it doesn't exist\n",
    "os.makedirs(final_data_folder, exist_ok=True)\n",
    "\n",
    "print(\"Downloading ZIP file from GitHub...\")\n",
    "response = requests.get(url)\n",
    "with open(zip_path, \"wb\") as f:\n",
    "    f.write(response.content)\n",
    "print(f\"✅ Download complete: {zip_path}\")\n",
    "\n",
    "print(\"Extracting ZIP file...\")\n",
    "with zipfile.ZipFile(zip_path, 'r') as zip_ref:\n",
    "    zip_ref.extractall(extract_folder)\n",
    "print(f\"✅ Extraction complete: contents extracted to '{extract_folder}'\")\n",
    "\n",
    "print(\"Moving extracted files to final data folder...\")\n",
    "for root, dirs, files in os.walk(extract_folder):\n",
    "    for file in files:\n",
    "        src_path = os.path.join(root, file)\n",
    "        dst_path = os.path.join(final_data_folder, file)\n",
    "        shutil.move(src_path, dst_path)\n",
    "        print(f\"  Moved: {file}\")\n",
    "\n",
    "print(\"Cleaning up temporary files...\")\n",
    "os.remove(zip_path)\n",
    "shutil.rmtree(extract_folder)\n",
    "\n",
    "print(f\"✅ All files moved to '{final_data_folder}' and temporary files cleaned up.\")\n"
   ]
  },
  {
   "cell_type": "markdown",
   "id": "d0c471db-02e5-4cc3-b525-3079737bae48",
   "metadata": {},
   "source": [
    "----\n",
    "\n",
    "## 4. Creating a Function in a Python File and Using It in a Notebook\n",
    "\n",
    "You can define reusable functions in a Python file and import them into your notebook.\n",
    "\n",
    "### 4.1. Create a File \n",
    "**For example:** [util.py](util.py) in the same path as the jupyter notebook\n",
    "\n",
    "The content of `utils.py` file, we have defined a function name `greet()` \n",
    "\n",
    "<pre>\n",
    "def greet(name):\n",
    "    return f\"Hello, {name}! Welcome to your Jupyter Notebook.\"\n",
    "</pre>"
   ]
  },
  {
   "cell_type": "markdown",
   "id": "d76a0350-5aab-4963-ab2a-9d7d101b3319",
   "metadata": {},
   "source": [
    "### 4.2. Use It in a Jupyter Notebook\n",
    "\n",
    "To import the function(s) in jupyter notebook, use from and import in the format below.\n",
    "\n",
    "<pre>\n",
    "from {python_file_name} import {function_name1}, {function_name2}, {...}\n",
    "</pre>\n"
   ]
  },
  {
   "cell_type": "code",
   "execution_count": 14,
   "id": "66eb36da-f488-49ec-8315-1b427d3f0778",
   "metadata": {},
   "outputs": [
    {
     "data": {
      "text/plain": [
       "'Hello, I-GUIDE! Welcome to your Jupyter Notebook.'"
      ]
     },
     "execution_count": 14,
     "metadata": {},
     "output_type": "execute_result"
    }
   ],
   "source": [
    "from util import greet, plot_multichannel_image\n",
    "\n",
    "greet(\"I-GUIDE\")"
   ]
  },
  {
   "cell_type": "markdown",
   "id": "b464b9d4-1732-4766-83ba-f09689f2c29d",
   "metadata": {},
   "source": [
    "As we can see the output show the correct name in the text. "
   ]
  },
  {
   "cell_type": "markdown",
   "id": "b2ba1ceb-da64-4769-bb45-33b9e75d9e8d",
   "metadata": {},
   "source": [
    "\n",
    "-----\n",
    "\n",
    "## 5. Sample Use Case\n",
    "We will download sample data from GitHub. Then, we will visualize the sample data with the function in util.py file."
   ]
  },
  {
   "cell_type": "code",
   "execution_count": 15,
   "id": "25cf2b66-2199-4aef-b284-695bf1bf69f8",
   "metadata": {},
   "outputs": [
    {
     "name": "stdout",
     "output_type": "stream",
     "text": [
      "✅ File downloaded: example.npy\n"
     ]
    }
   ],
   "source": [
    "# Dowload the npy file from URL\n",
    "import requests\n",
    "\n",
    "url = \"https://github.com/N-Jaro/test/raw/refs/heads/master/example.npy\"\n",
    "output_path = \"example.npy\"\n",
    "\n",
    "response = requests.get(url)\n",
    "with open(output_path, \"wb\") as f:\n",
    "    f.write(response.content)\n",
    "\n",
    "print(\"✅ File downloaded:\", output_path)"
   ]
  },
  {
   "cell_type": "code",
   "execution_count": null,
   "id": "b1160130-57da-4178-a92b-ff550d7f9c39",
   "metadata": {},
   "outputs": [],
   "source": [
    "# load visualization function from the util.py file and use it to visualize the sample\n",
    "import numpy as np\n",
    "from util import plot_multichannel_image\n",
    "\n",
    "# Load the downloaded .npy file\n",
    "array = np.load(\"example.npy\")\n",
    "\n",
    "# Plot all channels dynamically\n",
    "plot_multichannel_image(array)"
   ]
  }
 ],
 "metadata": {
  "kernelspec": {
   "display_name": "geoai",
   "language": "python",
   "name": "geoai"
  },
  "language_info": {
   "codemirror_mode": {
    "name": "ipython",
    "version": 3
   },
   "file_extension": ".py",
   "mimetype": "text/x-python",
   "name": "python",
   "nbconvert_exporter": "python",
   "pygments_lexer": "ipython3",
   "version": "3.11.6"
  }
 },
 "nbformat": 4,
 "nbformat_minor": 5
}
